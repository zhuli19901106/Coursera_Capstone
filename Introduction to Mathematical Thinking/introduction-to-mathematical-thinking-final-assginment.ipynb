{
 "cells": [
  {
   "cell_type": "markdown",
   "metadata": {},
   "source": [
    "# Zhu Li's Test Flight Problem Set\n",
    "For the Stanford MOOC \"Introduction to Mathematical Thinking\" course."
   ]
  },
  {
   "cell_type": "markdown",
   "metadata": {},
   "source": [
    "**Disclaimer:**\n",
    "\n",
    "**0 is not considered a natural number in this problem set.**"
   ]
  },
  {
   "cell_type": "markdown",
   "metadata": {},
   "source": [
    "For each question, you must enter your answer into the appropriate entry field in the Test Flight module\n",
    "(TEX entry is possible), or you may upload a file (JPEG, scanned PDF of handwritten solution, PDF\n",
    "from a Word file, etc.) Your answers will be peer graded according to the course rubric"
   ]
  },
  {
   "cell_type": "markdown",
   "metadata": {},
   "source": [
    "## <center>YOU ARE EXPECTED TO WORK ALONE ON THIS PROBLEM SET.</center>"
   ]
  },
  {
   "cell_type": "markdown",
   "metadata": {},
   "source": [
    "1: Say whether the following is true or false and support your answer by a proof.\n",
    "\n",
    "$$(\\exists m \\in \\mathcal{N})(\\exists n \\in \\mathcal{N})(3m + 5n = 12)$$"
   ]
  },
  {
   "cell_type": "markdown",
   "metadata": {},
   "source": [
    "**Proof:**\n",
    "\n",
    "$\\because$\n",
    "m and n are natural numbers.<br>\n",
    "$\\therefore$\n",
    "$m \\ge 1$ and $n \\ge 1$ and $m, n \\in \\mathcal{Z}.$<br>\n",
    "$\\therefore$\n",
    "$\\forall m \\in \\mathcal{N}, 3m+5n \\ge 3m+5, \\forall n \\in \\mathcal{N}, 3m+5n \\ge 3+5n.$<br>\n",
    "$\\therefore$\n",
    "For $3m+5n \\le 12, m \\le \\lfloor\\frac{12 - 5}{3}\\rfloor, n \\le \\lfloor\\frac{12 - 3}{5}\\rfloor$<br>\n",
    "$\\therefore$\n",
    "$1 \\le m \\le 2, 1 \\le n \\le 1$<br>\n",
    "$\\therefore$\n",
    "There're finite pairs of (m,n) s.t. $3m + 5n \\le 12$.<br>\n",
    "\n",
    "All possible enumerations are:<br>\n",
    "$3 \\times 1 + 5 \\times 1 = 8$<br>\n",
    "$3 \\times 2 + 5 \\times 1 = 11$<br>\n",
    "\n",
    "$\\therefore$\n",
    "None of the possible enumerations sums up to 12.<br>\n",
    "$\\therefore$\n",
    "There **doesn't exist** natural numbers m and n, s.t. $3m + 5n = 12$.<br>\n",
    "Q.E.D.\n",
    "<hr>"
   ]
  },
  {
   "cell_type": "markdown",
   "metadata": {},
   "source": [
    "2: Say whether the following is true or false and support your answer by a proof:<br>\n",
    "The sum of any five consecutive integers is divisible by 5 (without remainder)."
   ]
  },
  {
   "cell_type": "markdown",
   "metadata": {},
   "source": [
    "**Proof:**\n",
    "\n",
    "Let n be an integer, thus $n \\in \\mathcal{N}$.<br>\n",
    "\n",
    "$\\therefore$\n",
    "\\begin{aligned}\n",
    "S &= \\sum\\limits_{i = 0}^{4}(n + i)\\\\\n",
    "&= 5n + (0 + 1 + 2 + 3 + 4)\\\\\n",
    "&= 5n + 10\\\\\n",
    "&= 5(n + 2)\n",
    "\\end{aligned}<br>\n",
    "$\\because$\n",
    "$n + 2 \\in \\mathcal{N}.$<br>\n",
    "$\\therefore$\n",
    "5 divides S.<br>\n",
    "$\\therefore$\n",
    "**The sum of any five consecutive integers is divisible by 5.**<br>\n",
    "Q.E.D.\n",
    "<hr>"
   ]
  },
  {
   "cell_type": "markdown",
   "metadata": {},
   "source": [
    "3: Say whether the following is true or false and support your answer by a proof:<br>\n",
    "For any integer n, the number $n^2 + n + 1$ is odd."
   ]
  },
  {
   "cell_type": "markdown",
   "metadata": {},
   "source": [
    "**Proof:**\n",
    "\n",
    "Let n be an integer, thus $n = 2k$ or $n = 2k + 1$, where $k \\in \\mathcal{Z}$.<br>\n",
    "\n",
    "When $n = 2k$,<br>\n",
    "\\begin{aligned}\n",
    "n^2 + n + 1 &= 4k^2 + 2k + 1\\\\\n",
    "&= 2(2k^2 + k) + 1\n",
    "\\end{aligned}\n",
    "$\\therefore$\n",
    "$n^2 + n + 1$ is odd when n is even.\n",
    "\n",
    "When $n = 2k + 1$,<br>\n",
    "\\begin{aligned}\n",
    "n^2 + n + 1 &= (2k + 1)^2 + (2k + 1) + 1\\\\\n",
    "&= 4k^2 + 6k + 3\\\\\n",
    "&= 2(2k^2 + 3k + 1) + 1\n",
    "\\end{aligned}\n",
    "$\\therefore$\n",
    "$n^2 + n + 1$ is odd when n is odd.\n",
    "\n",
    "$\\therefore$\n",
    "**$\\forall n \\in \\mathcal{Z}, n^2 + n + 1$ is odd.**<br>\n",
    "Q.E.D.\n",
    "<hr>"
   ]
  },
  {
   "cell_type": "markdown",
   "metadata": {},
   "source": [
    "4: Prove that every odd natural number is of one of the forms 4n + 1 or 4n + 3, where n is an integer."
   ]
  },
  {
   "cell_type": "markdown",
   "metadata": {},
   "source": [
    "**Proof:**\n",
    "\n",
    "Let x be an odd natural number.<br>\n",
    "$\\therefore$\n",
    "$x = 2y + 1, y \\in \\mathcal{Z}$<br>\n",
    "\n",
    "When y is an odd natural number, $y = 2n + 1, n \\in \\mathcal{Z}$<br>\n",
    "$\\therefore$\n",
    "$x = 2y + 1 = 2(2n + 1) + 1 = 4n + 3$<br>\n",
    "\n",
    "When y is an even natural number, $y = 2n, n \\in \\mathcal{Z}$<br>\n",
    "$\\therefore$\n",
    "$x = 2y + 1 = 2(2n) + 1 = 4n + 1$<br>\n",
    "\n",
    "$\\therefore$\n",
    "$\\exists n \\in \\mathcal{N}, s.t.$ $x = 4n + 1$ or $x = 4n + 3$<br>\n",
    "Q.E.D.\n",
    "<hr>"
   ]
  },
  {
   "cell_type": "markdown",
   "metadata": {},
   "source": [
    "5: Prove that for any integer n, at least one of the integers n, n + 2, n + 4 is divisible by 3."
   ]
  },
  {
   "cell_type": "markdown",
   "metadata": {},
   "source": [
    "**Proof:**\n",
    "\n",
    "$\\because$\n",
    "$n + 4 \\equiv n + 1 \\mod 3$<br>\n",
    "$\\therefore$\n",
    "The problem is equivalent for the group $(n, n + 1, n + 2)$.<br>\n",
    "\n",
    "$\\forall n \\in \\mathcal{Z}, \\exists k \\in \\mathcal{Z}, \\exists r \\in \\{0, 1, 2\\}, s.t. n = 3k + r.$<br>\n",
    "$\\therefore$\n",
    "The problem is equivalent for the group $(r, r + 1, r + 2)$.<br>\n",
    "\n",
    "Suppose **none of $(r, r + 1, r + 2)$ is divisible by 3**.<br>\n",
    "$\\therefore$\n",
    "The 3 remainders of $(r, r + 1, r + 2)$ can take at most 2 values from $\\{1, 2\\}.$<br>\n",
    "$\\therefore$\n",
    "$\\exists x, y \\in \\{r, r + 1, r + 2\\}, x < y, s.t. x \\equiv y \\mod 3$<br>\n",
    "$\\because$\n",
    "$y - x \\in \\{1, 2\\}$<br>\n",
    "$\\therefore$\n",
    "$x \\not\\equiv y \\mod 3$<br>\n",
    "Thus the assumption is contradictory.\n",
    "\n",
    "$\\therefore$\n",
    "At least one of $\\{r, r + 1, r + 2\\}$ is divisible by 3.<br>\n",
    "$\\therefore$\n",
    "At least one of $\\{n, n + 2, n + 4\\}$ is divisible by 3.<br>\n",
    "Q.E.D.\n",
    "<hr>"
   ]
  },
  {
   "cell_type": "markdown",
   "metadata": {},
   "source": [
    "6: A classic unsolved problem in number theory asks if there are infinitely many pairs of 'twin primes', pairs of primes separated by 2, such as 3 and 5, 11 and 13, or 71 and 73. Prove that the only prime triple (i.e. three primes, each 2 from the next) is 3, 5, 7."
   ]
  },
  {
   "cell_type": "markdown",
   "metadata": {},
   "source": [
    "**Proof:**\n",
    "\n",
    "Suppose there exists a triple $(n, n + 2, n + 4), s.t.$ they're all primes.<br>\n",
    "By the proof I've done in **question 5**, at least one of $(n, n + 2, n + 4)$ is divisible by 3.<br>\n",
    "$\\therefore$\n",
    "When a prime is divisible by 3, the prime itself must be 3.<br>\n",
    "$\\therefore$\n",
    "One of $(n, n + 2, n + 4)$ must be 3.<br>\n",
    "$\\because$\n",
    "n is prime, we have $n \\ge 2, n + 2 \\ge 4, n + 4 \\ge 6$.<br>\n",
    "$\\therefore$\n",
    "n must be 3.<br>\n",
    "$\\therefore$\n",
    "The triple must be $(3, 5, 7)$.\n",
    "\n",
    "$\\therefore$\n",
    "The only prime triple is 3, 5, 7.<br>\n",
    "Q.E.D.\n",
    "<hr>"
   ]
  },
  {
   "cell_type": "markdown",
   "metadata": {},
   "source": [
    "7: Prove that for any natural number n,<br>\n",
    "$$2 + 2^2 + 2^3 + \\dots + 2^n = 2^{n + 1} - 2$$"
   ]
  },
  {
   "cell_type": "markdown",
   "metadata": {},
   "source": [
    "**Proof:**\n",
    "\n",
    "Let $S = \\sum\\limits_{i = 1}^{n}{2^i}$, thus $2S = \\sum\\limits_{i = 1}^{n}{2^{i + 1}}$<br>\n",
    "$\\therefore$\n",
    "\\begin{aligned}\n",
    "2S - S &= 2^{n + 1} + (\\sum\\limits_{i = 2}^{n}{2^i}) - (\\sum\\limits_{i = 2}^{n}{2^i}) - 2\\\\\n",
    "&= 2^{n + 1} - 2\n",
    "\\end{aligned}\n",
    "\n",
    "$\\therefore$\n",
    "$S = 2^{n + 1} - 2$<br>\n",
    "$\\therefore$\n",
    "$2 + 2^2 + 2^3 + \\dots + 2^n = 2^{n + 1} - 2$<br>\n",
    "Q.E.D.\n",
    "<hr>"
   ]
  },
  {
   "cell_type": "markdown",
   "metadata": {},
   "source": [
    "8: Prove (from the definition of a limit of a sequence) that if the sequence $\\{a_n\\}_{n = 1}^{\\infty}$ tends to limit L as $n \\to \\infty$, then for any fixed number $M > 0$, the sequence $\\{M a_n\\}_{n = 1}^{\\infty}$ tends to the limit ML."
   ]
  },
  {
   "cell_type": "markdown",
   "metadata": {},
   "source": [
    "**Proof:**\n",
    "\n",
    "$\\because$\n",
    "The sequence $\\{a_n\\}_{n = 1}^{\\infty}$ tends to limit L as $n \\to \\infty$.<br>\n",
    "$\\therefore$\n",
    "$\\forall \\epsilon > 0, \\exists N_0 \\in \\mathcal{N}, \\forall n > N_0, s.t. |a_n - L| < \\epsilon.$<br>\n",
    "$\\therefore$\n",
    "$\\forall \\epsilon > 0, \\exists N_0 \\in \\mathcal{N}, \\forall n > N_0, s.t. M|a_n - L| < M\\epsilon.$<br>\n",
    "$\\because$\n",
    "$M > 0$<br>\n",
    "$\\therefore$\n",
    "Let $\\epsilon' = M\\epsilon$, we have $\\epsilon' > 0$.<br>\n",
    "$\\therefore$\n",
    "$\\forall \\epsilon' > 0, \\exists N_0 \\in \\mathcal{N}, \\forall n > N_0, s.t. |(Ma_n) - (ML)| < \\epsilon'.$<br>\n",
    "$\\therefore$\n",
    "$\\forall M > 0$, we have $\\lim\\limits_{n \\to \\infty}\\{M a_n\\} = ML$.<br>\n",
    "Q.E.D.\n",
    "<hr>"
   ]
  },
  {
   "cell_type": "markdown",
   "metadata": {},
   "source": [
    "9: Given an infinite collection $A_n, n = 1, 2, \\dots$ of intervals of the real line, their intersection is defined\n",
    "to be.\n",
    "\n",
    "$$\\bigcap\\limits_{n = 1}^{\\infty}{A_n} = \\{x | (\\forall n)(x \\in A_n)\\}$$\n",
    "\n",
    "Give an example of a family of intervals $A_n, n = 1, 2, \\dots$, such that $A_{n + 1} \\subset A_{n}$ for all n and\n",
    "$\\bigcap_{n = 1}^{\\infty}{A_n} = \\phi$. Prove that your example has the stated property."
   ]
  },
  {
   "cell_type": "markdown",
   "metadata": {},
   "source": [
    "**Proof:**\n",
    "\n",
    "Let there be a sequence $\\{a_n\\}$, where $a_n = \\frac{1}{n}, n \\in \\mathcal{N}$.<br>\n",
    "$\\therefore$\n",
    "$\\forall \\epsilon > 0$, let $N_0 = \\lceil\\frac{1}{\\epsilon}\\rceil$.<br>\n",
    "$\\therefore$\n",
    "$N_0 \\ge \\frac{1}{\\epsilon}$, $\\frac{1}{N_0} \\le \\epsilon$.<br>\n",
    "$\\therefore$\n",
    "$\\forall n > N_0$, we have.\n",
    "$\\therefore$\n",
    "\\begin{aligned}\n",
    "|a_n - 0| &= |a_n|\\\\\n",
    "&= |\\frac{1}{n}|\\\\\n",
    "&= \\frac{1}{n}\\\\\n",
    "&< \\frac{1}{N_0}\\\\\n",
    "&\\le \\epsilon\n",
    "\\end{aligned}\n",
    "\n",
    "$\\therefore$\n",
    "$\\forall \\epsilon > 0, \\exists N_0 \\in \\mathcal{N}, \\forall n > N_0, |a_n - 0| < \\epsilon.$<br>\n",
    "$\\therefore$\n",
    "$\\lim\\limits_{n \\to \\infty}{a_n} = 0$\n",
    "\n",
    "Let $A_n = (0, a_n)$.<br>\n",
    "$\\therefore$\n",
    "$\\forall n \\in \\mathcal{N}, a_{n + 1} < a_{n}.$<br>\n",
    "$\\therefore$\n",
    "$\\forall n \\in \\mathcal{N}, A_{n + 1} \\subset A_{n}.$<br>\n",
    "\n",
    "$\\because$\n",
    "$\\lim\\limits_{n \\to \\infty}{a_n} = 0$<br>\n",
    "$\\therefore$\n",
    "$\\lim\\limits_{n \\to \\infty}{A_n} = (0, \\lim\\limits_{n \\to \\infty}a_n) = (0, 0) = \\phi$<br>\n",
    "\n",
    "$\\because$\n",
    "$A_1 \\subset A_2 \\subset \\dots A_n$.<br>\n",
    "$\\therefore$\n",
    "\\begin{aligned}\n",
    "\\bigcap_{n = 1}^{\\infty}{A_n} &= \\lim\\limits_{n \\to \\infty}{\\bigcap_{i = 1}^{n}A_i}\\\\\n",
    "&= \\lim\\limits_{n \\to \\infty}{A_n}\\\\\n",
    "&= \\phi\n",
    "\\end{aligned}\n",
    "\n",
    "$\\therefore$\n",
    "The sequence of intervals $A_n = (0, \\frac{1}{n})$ satifies the stated property.<br>\n",
    "Q.E.D.\n",
    "<hr>"
   ]
  },
  {
   "cell_type": "markdown",
   "metadata": {},
   "source": [
    "10: Give an example of a family of intervals $A_n, n = 1, 2, \\dots$, such that $A_{n + 1} \\subset A_{n}$ for all n and $\\bigcap_{n = 1}^{\\infty}{A_n}$ consists of a single real number. Prove that your example has the stated property."
   ]
  },
  {
   "cell_type": "markdown",
   "metadata": {},
   "source": [
    "**Proof:**\n",
    "\n",
    "Let there be a sequence $\\{a_n\\}$, where $a_n = \\frac{1}{n}, n \\in \\mathcal{N}$.<br>\n",
    "By the proof of **question 9**, we have $\\lim\\limits_{n \\to \\infty}{a_n} = 0$<br>\n",
    "\n",
    "Let $A_n = [0, a_n]$.<br>\n",
    "The proof of property $A_{n + 1} \\subset A_n$ is the same as in **question 9**.\n",
    "\n",
    "As for the limit of $A_n$\n",
    "\\begin{aligned}\n",
    "\\lim\\limits_{n \\to \\infty}{A_n} &= [0, \\lim\\limits_{n \\to \\infty}a_n]\\\\\n",
    "&= [0, 0]\\\\\n",
    "&= \\{0\\}\n",
    "\\end{aligned}\n",
    "\n",
    "$\\because$\n",
    "$A_1 \\subset A_2 \\subset \\dots A_n$.<br>\n",
    "$\\therefore$\n",
    "\\begin{aligned}\n",
    "\\bigcap_{n = 1}^{\\infty}{A_n} &= \\lim\\limits_{n \\to \\infty}{\\bigcap_{i = 1}^{n}A_i}\\\\\n",
    "&= \\lim\\limits_{n \\to \\infty}{A_n}\\\\\n",
    "&= \\{0\\}\n",
    "\\end{aligned}\n",
    "\n",
    "$\\therefore$\n",
    "The sequence of intervals $A_n = [0, \\frac{1}{n}]$ satifies the stated property.<br>\n",
    "Q.E.D."
   ]
  }
 ],
 "metadata": {
  "kernelspec": {
   "display_name": "Python 3",
   "language": "python",
   "name": "python3"
  },
  "language_info": {
   "codemirror_mode": {
    "name": "ipython",
    "version": 3
   },
   "file_extension": ".py",
   "mimetype": "text/x-python",
   "name": "python",
   "nbconvert_exporter": "python",
   "pygments_lexer": "ipython3",
   "version": "3.6.3"
  }
 },
 "nbformat": 4,
 "nbformat_minor": 2
}
